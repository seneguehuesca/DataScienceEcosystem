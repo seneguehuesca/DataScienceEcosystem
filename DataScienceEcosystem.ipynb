{
 "cells": [
  {
   "cell_type": "markdown",
   "id": "dc11ae2d-9170-46eb-8af7-b76dae1d7c4a",
   "metadata": {},
   "source": [
    "# Data Science Tools and Ecosystem"
   ]
  },
  {
   "cell_type": "markdown",
   "id": "aadf32f8-16e3-413b-bda3-f12c715b050d",
   "metadata": {},
   "source": [
    "In this notebook, Data Science Tools and Ecosystem are summarized."
   ]
  },
  {
   "cell_type": "markdown",
   "id": "d78b9687-3232-4953-8be4-535676cc2ab3",
   "metadata": {},
   "source": [
    "**Objectives:**\n",
    "- List popular languages for Data Science.\n",
    "- List popular libraries for Data Science.\n",
    "- Table of Data Science tools."
   ]
  },
  {
   "cell_type": "markdown",
   "id": "0dc4f743-ecc9-4e02-a730-38d2323be2e4",
   "metadata": {},
   "source": [
    "Some of the popular languages that Data Scientists use are:\n",
    "1. Python\n",
    "2. R\n",
    "3. SQL\n",
    "4. Scala\n",
    "5. Julia"
   ]
  },
  {
   "cell_type": "markdown",
   "id": "a14af5b4-b645-45a8-884d-989332e70816",
   "metadata": {},
   "source": [
    "Some of the commonly used libraries used by Data Scientists include:\n",
    "1. Numpy\n",
    "2. Pandas\n",
    "3. Matplolib\n",
    "4. Seaborn\n",
    "5. TensorFlow"
   ]
  },
  {
   "cell_type": "markdown",
   "id": "ff8e6a57-575c-4d3c-bd9a-1e2db80fe0b6",
   "metadata": {},
   "source": [
    "|Data Science Tools|\n",
    "|------------------|\n",
    "|Jupiter Notebook|\n",
    "|RStudio|\n",
    "|Spyder|"
   ]
  },
  {
   "cell_type": "markdown",
   "id": "4d8bb7c1-f4e4-4418-83a4-cd2a90569e98",
   "metadata": {},
   "source": [
    "### Below are a few examples of evaluating arithmetic expressions in Python.\n",
    "1. **Addition:**\n",
    "   2 + 3 = 5\n",
    "   \n",
    "2. **Subtraction:**\n",
    "   7 - 4 = 3\n",
    "\n",
    "3. **Multiplication:**\n",
    "   5 * 6 = 30\n",
    "\n",
    "4. **Division:**\n",
    "   10 / 2 = 5\n",
    "\n",
    "5. **Exponentiation:**\n",
    "   2 ** 3 = 8\n",
    "\n",
    "6. **Modulo:**\n",
    "   15 % 7 = 1"
   ]
  },
  {
   "cell_type": "code",
   "execution_count": 7,
   "id": "c402d3f6-9213-4eee-8c67-055eb6dc91b4",
   "metadata": {},
   "outputs": [
    {
     "data": {
      "text/plain": [
       "17"
      ]
     },
     "execution_count": 7,
     "metadata": {},
     "output_type": "execute_result"
    }
   ],
   "source": [
    "# This a simple arithmetic expression to mutiply then add integers.\n",
    "( 3 * 4 ) + 5"
   ]
  },
  {
   "cell_type": "code",
   "execution_count": 8,
   "id": "ef8ff720-7ddf-4dbb-b38f-96b68f556e32",
   "metadata": {},
   "outputs": [
    {
     "data": {
      "text/plain": [
       "3.3333333333333335"
      ]
     },
     "execution_count": 8,
     "metadata": {},
     "output_type": "execute_result"
    }
   ],
   "source": [
    "# This will convert 200 minutes to hours by diving by 60.\n",
    "200 / 60"
   ]
  },
  {
   "cell_type": "markdown",
   "id": "e6a2fc88-9e43-4e21-b66d-7cdee25026a6",
   "metadata": {},
   "source": [
    "## Author\n",
    "Daniel"
   ]
  },
  {
   "cell_type": "code",
   "execution_count": null,
   "id": "967ca811-ddef-414a-9e46-f6a817f17b60",
   "metadata": {},
   "outputs": [],
   "source": []
  }
 ],
 "metadata": {
  "kernelspec": {
   "display_name": "Python 3 (ipykernel)",
   "language": "python",
   "name": "python3"
  },
  "language_info": {
   "codemirror_mode": {
    "name": "ipython",
    "version": 3
   },
   "file_extension": ".py",
   "mimetype": "text/x-python",
   "name": "python",
   "nbconvert_exporter": "python",
   "pygments_lexer": "ipython3",
   "version": "3.12.4"
  }
 },
 "nbformat": 4,
 "nbformat_minor": 5
}
